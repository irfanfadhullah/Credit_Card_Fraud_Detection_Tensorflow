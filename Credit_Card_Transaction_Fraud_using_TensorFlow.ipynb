{
  "nbformat": 4,
  "nbformat_minor": 0,
  "metadata": {
    "colab": {
      "name": "Credit Card Transaction Fraud using TensorFlow.ipynb",
      "provenance": [],
      "collapsed_sections": []
    },
    "kernelspec": {
      "name": "python3",
      "display_name": "Python 3"
    }
  },
  "cells": [
    {
      "cell_type": "code",
      "metadata": {
        "id": "7_EDiwiLQAHX",
        "colab_type": "code",
        "colab": {
          "base_uri": "https://localhost:8080/",
          "height": 242
        },
        "outputId": "500173e2-5dd8-48f8-a41a-6850d87ca5aa"
      },
      "source": [
        "!pip install kaggle"
      ],
      "execution_count": 1,
      "outputs": [
        {
          "output_type": "stream",
          "text": [
            "Requirement already satisfied: kaggle in /usr/local/lib/python3.6/dist-packages (1.5.6)\n",
            "Requirement already satisfied: requests in /usr/local/lib/python3.6/dist-packages (from kaggle) (2.23.0)\n",
            "Requirement already satisfied: tqdm in /usr/local/lib/python3.6/dist-packages (from kaggle) (4.41.1)\n",
            "Requirement already satisfied: python-slugify in /usr/local/lib/python3.6/dist-packages (from kaggle) (4.0.1)\n",
            "Requirement already satisfied: python-dateutil in /usr/local/lib/python3.6/dist-packages (from kaggle) (2.8.1)\n",
            "Requirement already satisfied: certifi in /usr/local/lib/python3.6/dist-packages (from kaggle) (2020.6.20)\n",
            "Requirement already satisfied: urllib3<1.25,>=1.21.1 in /usr/local/lib/python3.6/dist-packages (from kaggle) (1.24.3)\n",
            "Requirement already satisfied: six>=1.10 in /usr/local/lib/python3.6/dist-packages (from kaggle) (1.15.0)\n",
            "Requirement already satisfied: chardet<4,>=3.0.2 in /usr/local/lib/python3.6/dist-packages (from requests->kaggle) (3.0.4)\n",
            "Requirement already satisfied: idna<3,>=2.5 in /usr/local/lib/python3.6/dist-packages (from requests->kaggle) (2.10)\n",
            "Requirement already satisfied: text-unidecode>=1.3 in /usr/local/lib/python3.6/dist-packages (from python-slugify->kaggle) (1.3)\n"
          ],
          "name": "stdout"
        }
      ]
    },
    {
      "cell_type": "code",
      "metadata": {
        "id": "dkhdCtFoPuBi",
        "colab_type": "code",
        "colab": {
          "resources": {
            "http://localhost:8080/nbextensions/google.colab/files.js": {
              "data": "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",
              "ok": true,
              "headers": [
                [
                  "content-type",
                  "application/javascript"
                ]
              ],
              "status": 200,
              "status_text": "OK"
            }
          },
          "base_uri": "https://localhost:8080/",
          "height": 115
        },
        "outputId": "b9707ce5-ab2a-4cc4-a259-482ef09dafd4"
      },
      "source": [
        "from google.colab import files\n",
        "files.upload() #upload kaggle.json"
      ],
      "execution_count": 2,
      "outputs": [
        {
          "output_type": "display_data",
          "data": {
            "text/html": [
              "\n",
              "     <input type=\"file\" id=\"files-a7323d68-5393-430f-9815-59f19dcafeda\" name=\"files[]\" multiple disabled\n",
              "        style=\"border:none\" />\n",
              "     <output id=\"result-a7323d68-5393-430f-9815-59f19dcafeda\">\n",
              "      Upload widget is only available when the cell has been executed in the\n",
              "      current browser session. Please rerun this cell to enable.\n",
              "      </output>\n",
              "      <script src=\"/nbextensions/google.colab/files.js\"></script> "
            ],
            "text/plain": [
              "<IPython.core.display.HTML object>"
            ]
          },
          "metadata": {
            "tags": []
          }
        },
        {
          "output_type": "stream",
          "text": [
            "Saving kaggle.json to kaggle.json\n"
          ],
          "name": "stdout"
        },
        {
          "output_type": "execute_result",
          "data": {
            "text/plain": [
              "{'kaggle.json': b'{\"username\":\"irfanfadhullah\",\"key\":\"1ff88748b498312e668d02a61cf44260\"}'}"
            ]
          },
          "metadata": {
            "tags": []
          },
          "execution_count": 2
        }
      ]
    },
    {
      "cell_type": "code",
      "metadata": {
        "id": "d43yW4WyQB2L",
        "colab_type": "code",
        "colab": {}
      },
      "source": [
        "!mkdir -p ~/.kaggle\n",
        "!cp kaggle.json ~/.kaggle/\n",
        "!chmod 600 ~/.kaggle/kaggle.json"
      ],
      "execution_count": 3,
      "outputs": []
    },
    {
      "cell_type": "code",
      "metadata": {
        "id": "W8iJOBUM5Buo",
        "colab_type": "code",
        "colab": {
          "base_uri": "https://localhost:8080/",
          "height": 73
        },
        "outputId": "82b6a883-7f53-4f40-e65a-0f3f4520ee7e"
      },
      "source": [
        "!kaggle datasets download -d mlg-ulb/creditcardfraud"
      ],
      "execution_count": 4,
      "outputs": [
        {
          "output_type": "stream",
          "text": [
            "Downloading creditcardfraud.zip to /content\n",
            " 99% 65.0M/66.0M [00:00<00:00, 76.5MB/s]\n",
            "100% 66.0M/66.0M [00:00<00:00, 104MB/s] \n"
          ],
          "name": "stdout"
        }
      ]
    },
    {
      "cell_type": "code",
      "metadata": {
        "id": "nUL5c7kyQSJg",
        "colab_type": "code",
        "colab": {}
      },
      "source": [
        "import zipfile\n",
        "zip_ref = zipfile.ZipFile('creditcardfraud.zip', 'r')\n",
        "zip_ref.extractall('files')\n",
        "zip_ref.close()"
      ],
      "execution_count": 5,
      "outputs": []
    },
    {
      "cell_type": "markdown",
      "metadata": {
        "id": "ZuCmEREbThYh",
        "colab_type": "text"
      },
      "source": [
        "## Detection using CNN"
      ]
    },
    {
      "cell_type": "code",
      "metadata": {
        "id": "qgohNm6LQx_N",
        "colab_type": "code",
        "colab": {}
      },
      "source": [
        "import tensorflow as tf\n",
        "import pandas as pd\n",
        "import numpy as np\n",
        "import seaborn as sns\n",
        "import matplotlib.pyplot as plt\n",
        "from sklearn.model_selection import train_test_split\n",
        "from sklearn.preprocessing import StandardScaler"
      ],
      "execution_count": 12,
      "outputs": []
    },
    {
      "cell_type": "code",
      "metadata": {
        "id": "0gxQuDCoQoSe",
        "colab_type": "code",
        "colab": {}
      },
      "source": [
        "df = pd.read_csv('/content/files/creditcard.csv')"
      ],
      "execution_count": 6,
      "outputs": []
    },
    {
      "cell_type": "code",
      "metadata": {
        "id": "UX-gXeqRQwus",
        "colab_type": "code",
        "colab": {
          "base_uri": "https://localhost:8080/",
          "height": 226
        },
        "outputId": "b9523dad-3157-4a30-c5a1-8d584f9fa535"
      },
      "source": [
        "df.head()"
      ],
      "execution_count": 7,
      "outputs": [
        {
          "output_type": "execute_result",
          "data": {
            "text/html": [
              "<div>\n",
              "<style scoped>\n",
              "    .dataframe tbody tr th:only-of-type {\n",
              "        vertical-align: middle;\n",
              "    }\n",
              "\n",
              "    .dataframe tbody tr th {\n",
              "        vertical-align: top;\n",
              "    }\n",
              "\n",
              "    .dataframe thead th {\n",
              "        text-align: right;\n",
              "    }\n",
              "</style>\n",
              "<table border=\"1\" class=\"dataframe\">\n",
              "  <thead>\n",
              "    <tr style=\"text-align: right;\">\n",
              "      <th></th>\n",
              "      <th>Time</th>\n",
              "      <th>V1</th>\n",
              "      <th>V2</th>\n",
              "      <th>V3</th>\n",
              "      <th>V4</th>\n",
              "      <th>V5</th>\n",
              "      <th>V6</th>\n",
              "      <th>V7</th>\n",
              "      <th>V8</th>\n",
              "      <th>V9</th>\n",
              "      <th>V10</th>\n",
              "      <th>V11</th>\n",
              "      <th>V12</th>\n",
              "      <th>V13</th>\n",
              "      <th>V14</th>\n",
              "      <th>V15</th>\n",
              "      <th>V16</th>\n",
              "      <th>V17</th>\n",
              "      <th>V18</th>\n",
              "      <th>V19</th>\n",
              "      <th>V20</th>\n",
              "      <th>V21</th>\n",
              "      <th>V22</th>\n",
              "      <th>V23</th>\n",
              "      <th>V24</th>\n",
              "      <th>V25</th>\n",
              "      <th>V26</th>\n",
              "      <th>V27</th>\n",
              "      <th>V28</th>\n",
              "      <th>Amount</th>\n",
              "      <th>Class</th>\n",
              "    </tr>\n",
              "  </thead>\n",
              "  <tbody>\n",
              "    <tr>\n",
              "      <th>0</th>\n",
              "      <td>0.0</td>\n",
              "      <td>-1.359807</td>\n",
              "      <td>-0.072781</td>\n",
              "      <td>2.536347</td>\n",
              "      <td>1.378155</td>\n",
              "      <td>-0.338321</td>\n",
              "      <td>0.462388</td>\n",
              "      <td>0.239599</td>\n",
              "      <td>0.098698</td>\n",
              "      <td>0.363787</td>\n",
              "      <td>0.090794</td>\n",
              "      <td>-0.551600</td>\n",
              "      <td>-0.617801</td>\n",
              "      <td>-0.991390</td>\n",
              "      <td>-0.311169</td>\n",
              "      <td>1.468177</td>\n",
              "      <td>-0.470401</td>\n",
              "      <td>0.207971</td>\n",
              "      <td>0.025791</td>\n",
              "      <td>0.403993</td>\n",
              "      <td>0.251412</td>\n",
              "      <td>-0.018307</td>\n",
              "      <td>0.277838</td>\n",
              "      <td>-0.110474</td>\n",
              "      <td>0.066928</td>\n",
              "      <td>0.128539</td>\n",
              "      <td>-0.189115</td>\n",
              "      <td>0.133558</td>\n",
              "      <td>-0.021053</td>\n",
              "      <td>149.62</td>\n",
              "      <td>0</td>\n",
              "    </tr>\n",
              "    <tr>\n",
              "      <th>1</th>\n",
              "      <td>0.0</td>\n",
              "      <td>1.191857</td>\n",
              "      <td>0.266151</td>\n",
              "      <td>0.166480</td>\n",
              "      <td>0.448154</td>\n",
              "      <td>0.060018</td>\n",
              "      <td>-0.082361</td>\n",
              "      <td>-0.078803</td>\n",
              "      <td>0.085102</td>\n",
              "      <td>-0.255425</td>\n",
              "      <td>-0.166974</td>\n",
              "      <td>1.612727</td>\n",
              "      <td>1.065235</td>\n",
              "      <td>0.489095</td>\n",
              "      <td>-0.143772</td>\n",
              "      <td>0.635558</td>\n",
              "      <td>0.463917</td>\n",
              "      <td>-0.114805</td>\n",
              "      <td>-0.183361</td>\n",
              "      <td>-0.145783</td>\n",
              "      <td>-0.069083</td>\n",
              "      <td>-0.225775</td>\n",
              "      <td>-0.638672</td>\n",
              "      <td>0.101288</td>\n",
              "      <td>-0.339846</td>\n",
              "      <td>0.167170</td>\n",
              "      <td>0.125895</td>\n",
              "      <td>-0.008983</td>\n",
              "      <td>0.014724</td>\n",
              "      <td>2.69</td>\n",
              "      <td>0</td>\n",
              "    </tr>\n",
              "    <tr>\n",
              "      <th>2</th>\n",
              "      <td>1.0</td>\n",
              "      <td>-1.358354</td>\n",
              "      <td>-1.340163</td>\n",
              "      <td>1.773209</td>\n",
              "      <td>0.379780</td>\n",
              "      <td>-0.503198</td>\n",
              "      <td>1.800499</td>\n",
              "      <td>0.791461</td>\n",
              "      <td>0.247676</td>\n",
              "      <td>-1.514654</td>\n",
              "      <td>0.207643</td>\n",
              "      <td>0.624501</td>\n",
              "      <td>0.066084</td>\n",
              "      <td>0.717293</td>\n",
              "      <td>-0.165946</td>\n",
              "      <td>2.345865</td>\n",
              "      <td>-2.890083</td>\n",
              "      <td>1.109969</td>\n",
              "      <td>-0.121359</td>\n",
              "      <td>-2.261857</td>\n",
              "      <td>0.524980</td>\n",
              "      <td>0.247998</td>\n",
              "      <td>0.771679</td>\n",
              "      <td>0.909412</td>\n",
              "      <td>-0.689281</td>\n",
              "      <td>-0.327642</td>\n",
              "      <td>-0.139097</td>\n",
              "      <td>-0.055353</td>\n",
              "      <td>-0.059752</td>\n",
              "      <td>378.66</td>\n",
              "      <td>0</td>\n",
              "    </tr>\n",
              "    <tr>\n",
              "      <th>3</th>\n",
              "      <td>1.0</td>\n",
              "      <td>-0.966272</td>\n",
              "      <td>-0.185226</td>\n",
              "      <td>1.792993</td>\n",
              "      <td>-0.863291</td>\n",
              "      <td>-0.010309</td>\n",
              "      <td>1.247203</td>\n",
              "      <td>0.237609</td>\n",
              "      <td>0.377436</td>\n",
              "      <td>-1.387024</td>\n",
              "      <td>-0.054952</td>\n",
              "      <td>-0.226487</td>\n",
              "      <td>0.178228</td>\n",
              "      <td>0.507757</td>\n",
              "      <td>-0.287924</td>\n",
              "      <td>-0.631418</td>\n",
              "      <td>-1.059647</td>\n",
              "      <td>-0.684093</td>\n",
              "      <td>1.965775</td>\n",
              "      <td>-1.232622</td>\n",
              "      <td>-0.208038</td>\n",
              "      <td>-0.108300</td>\n",
              "      <td>0.005274</td>\n",
              "      <td>-0.190321</td>\n",
              "      <td>-1.175575</td>\n",
              "      <td>0.647376</td>\n",
              "      <td>-0.221929</td>\n",
              "      <td>0.062723</td>\n",
              "      <td>0.061458</td>\n",
              "      <td>123.50</td>\n",
              "      <td>0</td>\n",
              "    </tr>\n",
              "    <tr>\n",
              "      <th>4</th>\n",
              "      <td>2.0</td>\n",
              "      <td>-1.158233</td>\n",
              "      <td>0.877737</td>\n",
              "      <td>1.548718</td>\n",
              "      <td>0.403034</td>\n",
              "      <td>-0.407193</td>\n",
              "      <td>0.095921</td>\n",
              "      <td>0.592941</td>\n",
              "      <td>-0.270533</td>\n",
              "      <td>0.817739</td>\n",
              "      <td>0.753074</td>\n",
              "      <td>-0.822843</td>\n",
              "      <td>0.538196</td>\n",
              "      <td>1.345852</td>\n",
              "      <td>-1.119670</td>\n",
              "      <td>0.175121</td>\n",
              "      <td>-0.451449</td>\n",
              "      <td>-0.237033</td>\n",
              "      <td>-0.038195</td>\n",
              "      <td>0.803487</td>\n",
              "      <td>0.408542</td>\n",
              "      <td>-0.009431</td>\n",
              "      <td>0.798278</td>\n",
              "      <td>-0.137458</td>\n",
              "      <td>0.141267</td>\n",
              "      <td>-0.206010</td>\n",
              "      <td>0.502292</td>\n",
              "      <td>0.219422</td>\n",
              "      <td>0.215153</td>\n",
              "      <td>69.99</td>\n",
              "      <td>0</td>\n",
              "    </tr>\n",
              "  </tbody>\n",
              "</table>\n",
              "</div>"
            ],
            "text/plain": [
              "   Time        V1        V2        V3  ...       V27       V28  Amount  Class\n",
              "0   0.0 -1.359807 -0.072781  2.536347  ...  0.133558 -0.021053  149.62      0\n",
              "1   0.0  1.191857  0.266151  0.166480  ... -0.008983  0.014724    2.69      0\n",
              "2   1.0 -1.358354 -1.340163  1.773209  ... -0.055353 -0.059752  378.66      0\n",
              "3   1.0 -0.966272 -0.185226  1.792993  ...  0.062723  0.061458  123.50      0\n",
              "4   2.0 -1.158233  0.877737  1.548718  ...  0.219422  0.215153   69.99      0\n",
              "\n",
              "[5 rows x 31 columns]"
            ]
          },
          "metadata": {
            "tags": []
          },
          "execution_count": 7
        }
      ]
    },
    {
      "cell_type": "code",
      "metadata": {
        "id": "5Owpv80QT0so",
        "colab_type": "code",
        "colab": {
          "base_uri": "https://localhost:8080/",
          "height": 36
        },
        "outputId": "8a7555cc-af3d-462c-9b77-e7ba88a4e1ab"
      },
      "source": [
        "df.shape"
      ],
      "execution_count": 14,
      "outputs": [
        {
          "output_type": "execute_result",
          "data": {
            "text/plain": [
              "(284807, 31)"
            ]
          },
          "metadata": {
            "tags": []
          },
          "execution_count": 14
        }
      ]
    },
    {
      "cell_type": "code",
      "metadata": {
        "id": "kz_VN2S_UoB5",
        "colab_type": "code",
        "colab": {
          "base_uri": "https://localhost:8080/",
          "height": 613
        },
        "outputId": "91dce7be-41a5-4069-a743-ce4ddc0ea8b5"
      },
      "source": [
        "df.isnull().sum()"
      ],
      "execution_count": 15,
      "outputs": [
        {
          "output_type": "execute_result",
          "data": {
            "text/plain": [
              "Time      0\n",
              "V1        0\n",
              "V2        0\n",
              "V3        0\n",
              "V4        0\n",
              "V5        0\n",
              "V6        0\n",
              "V7        0\n",
              "V8        0\n",
              "V9        0\n",
              "V10       0\n",
              "V11       0\n",
              "V12       0\n",
              "V13       0\n",
              "V14       0\n",
              "V15       0\n",
              "V16       0\n",
              "V17       0\n",
              "V18       0\n",
              "V19       0\n",
              "V20       0\n",
              "V21       0\n",
              "V22       0\n",
              "V23       0\n",
              "V24       0\n",
              "V25       0\n",
              "V26       0\n",
              "V27       0\n",
              "V28       0\n",
              "Amount    0\n",
              "Class     0\n",
              "dtype: int64"
            ]
          },
          "metadata": {
            "tags": []
          },
          "execution_count": 15
        }
      ]
    },
    {
      "cell_type": "code",
      "metadata": {
        "id": "oH7euRncUtnb",
        "colab_type": "code",
        "colab": {
          "base_uri": "https://localhost:8080/",
          "height": 724
        },
        "outputId": "27329664-0c9d-4f84-da9f-f8221e24b4b9"
      },
      "source": [
        "df.info()"
      ],
      "execution_count": 17,
      "outputs": [
        {
          "output_type": "stream",
          "text": [
            "<class 'pandas.core.frame.DataFrame'>\n",
            "RangeIndex: 284807 entries, 0 to 284806\n",
            "Data columns (total 31 columns):\n",
            " #   Column  Non-Null Count   Dtype  \n",
            "---  ------  --------------   -----  \n",
            " 0   Time    284807 non-null  float64\n",
            " 1   V1      284807 non-null  float64\n",
            " 2   V2      284807 non-null  float64\n",
            " 3   V3      284807 non-null  float64\n",
            " 4   V4      284807 non-null  float64\n",
            " 5   V5      284807 non-null  float64\n",
            " 6   V6      284807 non-null  float64\n",
            " 7   V7      284807 non-null  float64\n",
            " 8   V8      284807 non-null  float64\n",
            " 9   V9      284807 non-null  float64\n",
            " 10  V10     284807 non-null  float64\n",
            " 11  V11     284807 non-null  float64\n",
            " 12  V12     284807 non-null  float64\n",
            " 13  V13     284807 non-null  float64\n",
            " 14  V14     284807 non-null  float64\n",
            " 15  V15     284807 non-null  float64\n",
            " 16  V16     284807 non-null  float64\n",
            " 17  V17     284807 non-null  float64\n",
            " 18  V18     284807 non-null  float64\n",
            " 19  V19     284807 non-null  float64\n",
            " 20  V20     284807 non-null  float64\n",
            " 21  V21     284807 non-null  float64\n",
            " 22  V22     284807 non-null  float64\n",
            " 23  V23     284807 non-null  float64\n",
            " 24  V24     284807 non-null  float64\n",
            " 25  V25     284807 non-null  float64\n",
            " 26  V26     284807 non-null  float64\n",
            " 27  V27     284807 non-null  float64\n",
            " 28  V28     284807 non-null  float64\n",
            " 29  Amount  284807 non-null  float64\n",
            " 30  Class   284807 non-null  int64  \n",
            "dtypes: float64(30), int64(1)\n",
            "memory usage: 67.4 MB\n"
          ],
          "name": "stdout"
        }
      ]
    },
    {
      "cell_type": "code",
      "metadata": {
        "id": "ESKhNjImUwO0",
        "colab_type": "code",
        "colab": {
          "base_uri": "https://localhost:8080/",
          "height": 73
        },
        "outputId": "e2997e95-4f92-4e45-c01a-7c775568c4c4"
      },
      "source": [
        "df['Class'].value_counts() #Check the target or label"
      ],
      "execution_count": 18,
      "outputs": [
        {
          "output_type": "execute_result",
          "data": {
            "text/plain": [
              "0    284315\n",
              "1       492\n",
              "Name: Class, dtype: int64"
            ]
          },
          "metadata": {
            "tags": []
          },
          "execution_count": 18
        }
      ]
    },
    {
      "cell_type": "markdown",
      "metadata": {
        "id": "LTwKCAHrU_SS",
        "colab_type": "text"
      },
      "source": [
        "### Balancing The Label Dataset"
      ]
    },
    {
      "cell_type": "code",
      "metadata": {
        "id": "fzsG91AEU5ia",
        "colab_type": "code",
        "colab": {}
      },
      "source": [
        "legitimate = df[df['Class']==0]\n",
        "fraud = df[df['Class']==1]"
      ],
      "execution_count": 19,
      "outputs": []
    },
    {
      "cell_type": "code",
      "metadata": {
        "id": "QEGb5ScoVLso",
        "colab_type": "code",
        "colab": {
          "base_uri": "https://localhost:8080/",
          "height": 36
        },
        "outputId": "5f721855-6218-40c6-c467-74b94df5cd09"
      },
      "source": [
        "legitimate.shape, fraud.shape"
      ],
      "execution_count": 20,
      "outputs": [
        {
          "output_type": "execute_result",
          "data": {
            "text/plain": [
              "((284315, 31), (492, 31))"
            ]
          },
          "metadata": {
            "tags": []
          },
          "execution_count": 20
        }
      ]
    },
    {
      "cell_type": "code",
      "metadata": {
        "id": "bXopCh2CVOVv",
        "colab_type": "code",
        "colab": {
          "base_uri": "https://localhost:8080/",
          "height": 36
        },
        "outputId": "fae3bea0-c2cc-4c5c-98cb-f1dbd0efbd08"
      },
      "source": [
        "legitimate = legitimate.sample(fraud.shape[0])\n",
        "legitimate.shape"
      ],
      "execution_count": 21,
      "outputs": [
        {
          "output_type": "execute_result",
          "data": {
            "text/plain": [
              "(492, 31)"
            ]
          },
          "metadata": {
            "tags": []
          },
          "execution_count": 21
        }
      ]
    },
    {
      "cell_type": "code",
      "metadata": {
        "id": "aRfoOUuTVrxW",
        "colab_type": "code",
        "colab": {}
      },
      "source": [
        "df = fraud.append(legitimate,ignore_index=True)"
      ],
      "execution_count": 22,
      "outputs": []
    },
    {
      "cell_type": "code",
      "metadata": {
        "id": "UBquNcWZV2RV",
        "colab_type": "code",
        "colab": {
          "base_uri": "https://localhost:8080/",
          "height": 444
        },
        "outputId": "2ee6474b-34ae-40df-fe7d-573704cb876f"
      },
      "source": [
        "df"
      ],
      "execution_count": 23,
      "outputs": [
        {
          "output_type": "execute_result",
          "data": {
            "text/html": [
              "<div>\n",
              "<style scoped>\n",
              "    .dataframe tbody tr th:only-of-type {\n",
              "        vertical-align: middle;\n",
              "    }\n",
              "\n",
              "    .dataframe tbody tr th {\n",
              "        vertical-align: top;\n",
              "    }\n",
              "\n",
              "    .dataframe thead th {\n",
              "        text-align: right;\n",
              "    }\n",
              "</style>\n",
              "<table border=\"1\" class=\"dataframe\">\n",
              "  <thead>\n",
              "    <tr style=\"text-align: right;\">\n",
              "      <th></th>\n",
              "      <th>Time</th>\n",
              "      <th>V1</th>\n",
              "      <th>V2</th>\n",
              "      <th>V3</th>\n",
              "      <th>V4</th>\n",
              "      <th>V5</th>\n",
              "      <th>V6</th>\n",
              "      <th>V7</th>\n",
              "      <th>V8</th>\n",
              "      <th>V9</th>\n",
              "      <th>V10</th>\n",
              "      <th>V11</th>\n",
              "      <th>V12</th>\n",
              "      <th>V13</th>\n",
              "      <th>V14</th>\n",
              "      <th>V15</th>\n",
              "      <th>V16</th>\n",
              "      <th>V17</th>\n",
              "      <th>V18</th>\n",
              "      <th>V19</th>\n",
              "      <th>V20</th>\n",
              "      <th>V21</th>\n",
              "      <th>V22</th>\n",
              "      <th>V23</th>\n",
              "      <th>V24</th>\n",
              "      <th>V25</th>\n",
              "      <th>V26</th>\n",
              "      <th>V27</th>\n",
              "      <th>V28</th>\n",
              "      <th>Amount</th>\n",
              "      <th>Class</th>\n",
              "    </tr>\n",
              "  </thead>\n",
              "  <tbody>\n",
              "    <tr>\n",
              "      <th>0</th>\n",
              "      <td>406.0</td>\n",
              "      <td>-2.312227</td>\n",
              "      <td>1.951992</td>\n",
              "      <td>-1.609851</td>\n",
              "      <td>3.997906</td>\n",
              "      <td>-0.522188</td>\n",
              "      <td>-1.426545</td>\n",
              "      <td>-2.537387</td>\n",
              "      <td>1.391657</td>\n",
              "      <td>-2.770089</td>\n",
              "      <td>-2.772272</td>\n",
              "      <td>3.202033</td>\n",
              "      <td>-2.899907</td>\n",
              "      <td>-0.595222</td>\n",
              "      <td>-4.289254</td>\n",
              "      <td>0.389724</td>\n",
              "      <td>-1.140747</td>\n",
              "      <td>-2.830056</td>\n",
              "      <td>-0.016822</td>\n",
              "      <td>0.416956</td>\n",
              "      <td>0.126911</td>\n",
              "      <td>0.517232</td>\n",
              "      <td>-0.035049</td>\n",
              "      <td>-0.465211</td>\n",
              "      <td>0.320198</td>\n",
              "      <td>0.044519</td>\n",
              "      <td>0.177840</td>\n",
              "      <td>0.261145</td>\n",
              "      <td>-0.143276</td>\n",
              "      <td>0.00</td>\n",
              "      <td>1</td>\n",
              "    </tr>\n",
              "    <tr>\n",
              "      <th>1</th>\n",
              "      <td>472.0</td>\n",
              "      <td>-3.043541</td>\n",
              "      <td>-3.157307</td>\n",
              "      <td>1.088463</td>\n",
              "      <td>2.288644</td>\n",
              "      <td>1.359805</td>\n",
              "      <td>-1.064823</td>\n",
              "      <td>0.325574</td>\n",
              "      <td>-0.067794</td>\n",
              "      <td>-0.270953</td>\n",
              "      <td>-0.838587</td>\n",
              "      <td>-0.414575</td>\n",
              "      <td>-0.503141</td>\n",
              "      <td>0.676502</td>\n",
              "      <td>-1.692029</td>\n",
              "      <td>2.000635</td>\n",
              "      <td>0.666780</td>\n",
              "      <td>0.599717</td>\n",
              "      <td>1.725321</td>\n",
              "      <td>0.283345</td>\n",
              "      <td>2.102339</td>\n",
              "      <td>0.661696</td>\n",
              "      <td>0.435477</td>\n",
              "      <td>1.375966</td>\n",
              "      <td>-0.293803</td>\n",
              "      <td>0.279798</td>\n",
              "      <td>-0.145362</td>\n",
              "      <td>-0.252773</td>\n",
              "      <td>0.035764</td>\n",
              "      <td>529.00</td>\n",
              "      <td>1</td>\n",
              "    </tr>\n",
              "    <tr>\n",
              "      <th>2</th>\n",
              "      <td>4462.0</td>\n",
              "      <td>-2.303350</td>\n",
              "      <td>1.759247</td>\n",
              "      <td>-0.359745</td>\n",
              "      <td>2.330243</td>\n",
              "      <td>-0.821628</td>\n",
              "      <td>-0.075788</td>\n",
              "      <td>0.562320</td>\n",
              "      <td>-0.399147</td>\n",
              "      <td>-0.238253</td>\n",
              "      <td>-1.525412</td>\n",
              "      <td>2.032912</td>\n",
              "      <td>-6.560124</td>\n",
              "      <td>0.022937</td>\n",
              "      <td>-1.470102</td>\n",
              "      <td>-0.698826</td>\n",
              "      <td>-2.282194</td>\n",
              "      <td>-4.781831</td>\n",
              "      <td>-2.615665</td>\n",
              "      <td>-1.334441</td>\n",
              "      <td>-0.430022</td>\n",
              "      <td>-0.294166</td>\n",
              "      <td>-0.932391</td>\n",
              "      <td>0.172726</td>\n",
              "      <td>-0.087330</td>\n",
              "      <td>-0.156114</td>\n",
              "      <td>-0.542628</td>\n",
              "      <td>0.039566</td>\n",
              "      <td>-0.153029</td>\n",
              "      <td>239.93</td>\n",
              "      <td>1</td>\n",
              "    </tr>\n",
              "    <tr>\n",
              "      <th>3</th>\n",
              "      <td>6986.0</td>\n",
              "      <td>-4.397974</td>\n",
              "      <td>1.358367</td>\n",
              "      <td>-2.592844</td>\n",
              "      <td>2.679787</td>\n",
              "      <td>-1.128131</td>\n",
              "      <td>-1.706536</td>\n",
              "      <td>-3.496197</td>\n",
              "      <td>-0.248778</td>\n",
              "      <td>-0.247768</td>\n",
              "      <td>-4.801637</td>\n",
              "      <td>4.895844</td>\n",
              "      <td>-10.912819</td>\n",
              "      <td>0.184372</td>\n",
              "      <td>-6.771097</td>\n",
              "      <td>-0.007326</td>\n",
              "      <td>-7.358083</td>\n",
              "      <td>-12.598419</td>\n",
              "      <td>-5.131549</td>\n",
              "      <td>0.308334</td>\n",
              "      <td>-0.171608</td>\n",
              "      <td>0.573574</td>\n",
              "      <td>0.176968</td>\n",
              "      <td>-0.436207</td>\n",
              "      <td>-0.053502</td>\n",
              "      <td>0.252405</td>\n",
              "      <td>-0.657488</td>\n",
              "      <td>-0.827136</td>\n",
              "      <td>0.849573</td>\n",
              "      <td>59.00</td>\n",
              "      <td>1</td>\n",
              "    </tr>\n",
              "    <tr>\n",
              "      <th>4</th>\n",
              "      <td>7519.0</td>\n",
              "      <td>1.234235</td>\n",
              "      <td>3.019740</td>\n",
              "      <td>-4.304597</td>\n",
              "      <td>4.732795</td>\n",
              "      <td>3.624201</td>\n",
              "      <td>-1.357746</td>\n",
              "      <td>1.713445</td>\n",
              "      <td>-0.496358</td>\n",
              "      <td>-1.282858</td>\n",
              "      <td>-2.447469</td>\n",
              "      <td>2.101344</td>\n",
              "      <td>-4.609628</td>\n",
              "      <td>1.464378</td>\n",
              "      <td>-6.079337</td>\n",
              "      <td>-0.339237</td>\n",
              "      <td>2.581851</td>\n",
              "      <td>6.739384</td>\n",
              "      <td>3.042493</td>\n",
              "      <td>-2.721853</td>\n",
              "      <td>0.009061</td>\n",
              "      <td>-0.379068</td>\n",
              "      <td>-0.704181</td>\n",
              "      <td>-0.656805</td>\n",
              "      <td>-1.632653</td>\n",
              "      <td>1.488901</td>\n",
              "      <td>0.566797</td>\n",
              "      <td>-0.010016</td>\n",
              "      <td>0.146793</td>\n",
              "      <td>1.00</td>\n",
              "      <td>1</td>\n",
              "    </tr>\n",
              "    <tr>\n",
              "      <th>...</th>\n",
              "      <td>...</td>\n",
              "      <td>...</td>\n",
              "      <td>...</td>\n",
              "      <td>...</td>\n",
              "      <td>...</td>\n",
              "      <td>...</td>\n",
              "      <td>...</td>\n",
              "      <td>...</td>\n",
              "      <td>...</td>\n",
              "      <td>...</td>\n",
              "      <td>...</td>\n",
              "      <td>...</td>\n",
              "      <td>...</td>\n",
              "      <td>...</td>\n",
              "      <td>...</td>\n",
              "      <td>...</td>\n",
              "      <td>...</td>\n",
              "      <td>...</td>\n",
              "      <td>...</td>\n",
              "      <td>...</td>\n",
              "      <td>...</td>\n",
              "      <td>...</td>\n",
              "      <td>...</td>\n",
              "      <td>...</td>\n",
              "      <td>...</td>\n",
              "      <td>...</td>\n",
              "      <td>...</td>\n",
              "      <td>...</td>\n",
              "      <td>...</td>\n",
              "      <td>...</td>\n",
              "      <td>...</td>\n",
              "    </tr>\n",
              "    <tr>\n",
              "      <th>979</th>\n",
              "      <td>46918.0</td>\n",
              "      <td>1.422248</td>\n",
              "      <td>-0.461950</td>\n",
              "      <td>0.250672</td>\n",
              "      <td>-0.987080</td>\n",
              "      <td>-0.580954</td>\n",
              "      <td>-0.197695</td>\n",
              "      <td>-0.624681</td>\n",
              "      <td>-0.029190</td>\n",
              "      <td>-1.069225</td>\n",
              "      <td>0.755139</td>\n",
              "      <td>0.853108</td>\n",
              "      <td>0.240728</td>\n",
              "      <td>0.945396</td>\n",
              "      <td>-0.158694</td>\n",
              "      <td>0.070103</td>\n",
              "      <td>1.640072</td>\n",
              "      <td>-0.377259</td>\n",
              "      <td>-0.893666</td>\n",
              "      <td>1.228405</td>\n",
              "      <td>0.154151</td>\n",
              "      <td>-0.093681</td>\n",
              "      <td>-0.387395</td>\n",
              "      <td>0.005797</td>\n",
              "      <td>-0.529356</td>\n",
              "      <td>0.340976</td>\n",
              "      <td>-0.446398</td>\n",
              "      <td>0.010016</td>\n",
              "      <td>0.005478</td>\n",
              "      <td>10.00</td>\n",
              "      <td>0</td>\n",
              "    </tr>\n",
              "    <tr>\n",
              "      <th>980</th>\n",
              "      <td>57242.0</td>\n",
              "      <td>-0.640578</td>\n",
              "      <td>-0.835632</td>\n",
              "      <td>1.669403</td>\n",
              "      <td>-2.647983</td>\n",
              "      <td>-0.618644</td>\n",
              "      <td>0.107048</td>\n",
              "      <td>-0.431194</td>\n",
              "      <td>0.141973</td>\n",
              "      <td>-2.115012</td>\n",
              "      <td>0.585949</td>\n",
              "      <td>-1.337557</td>\n",
              "      <td>-1.513215</td>\n",
              "      <td>0.380785</td>\n",
              "      <td>-0.612452</td>\n",
              "      <td>0.480577</td>\n",
              "      <td>0.019989</td>\n",
              "      <td>0.070398</td>\n",
              "      <td>0.271321</td>\n",
              "      <td>-1.148890</td>\n",
              "      <td>-0.155404</td>\n",
              "      <td>0.045223</td>\n",
              "      <td>0.296509</td>\n",
              "      <td>-0.085318</td>\n",
              "      <td>-0.803619</td>\n",
              "      <td>0.140941</td>\n",
              "      <td>-0.180724</td>\n",
              "      <td>0.085658</td>\n",
              "      <td>0.098313</td>\n",
              "      <td>78.00</td>\n",
              "      <td>0</td>\n",
              "    </tr>\n",
              "    <tr>\n",
              "      <th>981</th>\n",
              "      <td>121725.0</td>\n",
              "      <td>1.139107</td>\n",
              "      <td>-3.077281</td>\n",
              "      <td>-3.039725</td>\n",
              "      <td>-1.077517</td>\n",
              "      <td>-1.125187</td>\n",
              "      <td>-1.446970</td>\n",
              "      <td>0.726425</td>\n",
              "      <td>-0.676454</td>\n",
              "      <td>-2.216854</td>\n",
              "      <td>1.671893</td>\n",
              "      <td>0.588371</td>\n",
              "      <td>-1.037686</td>\n",
              "      <td>-1.335060</td>\n",
              "      <td>0.936049</td>\n",
              "      <td>-1.155822</td>\n",
              "      <td>-1.126250</td>\n",
              "      <td>0.701157</td>\n",
              "      <td>0.357153</td>\n",
              "      <td>0.050889</td>\n",
              "      <td>0.712458</td>\n",
              "      <td>0.538141</td>\n",
              "      <td>0.572093</td>\n",
              "      <td>-0.685423</td>\n",
              "      <td>0.128440</td>\n",
              "      <td>0.328634</td>\n",
              "      <td>0.214339</td>\n",
              "      <td>-0.202199</td>\n",
              "      <td>0.009094</td>\n",
              "      <td>642.80</td>\n",
              "      <td>0</td>\n",
              "    </tr>\n",
              "    <tr>\n",
              "      <th>982</th>\n",
              "      <td>113839.0</td>\n",
              "      <td>0.184878</td>\n",
              "      <td>1.766164</td>\n",
              "      <td>-0.070423</td>\n",
              "      <td>4.289554</td>\n",
              "      <td>0.783693</td>\n",
              "      <td>0.694960</td>\n",
              "      <td>0.493720</td>\n",
              "      <td>0.284776</td>\n",
              "      <td>-2.467703</td>\n",
              "      <td>1.364078</td>\n",
              "      <td>-1.817331</td>\n",
              "      <td>-0.339320</td>\n",
              "      <td>1.745071</td>\n",
              "      <td>0.444862</td>\n",
              "      <td>0.859860</td>\n",
              "      <td>0.248660</td>\n",
              "      <td>-0.242275</td>\n",
              "      <td>0.453834</td>\n",
              "      <td>1.244533</td>\n",
              "      <td>0.186826</td>\n",
              "      <td>0.266097</td>\n",
              "      <td>0.721893</td>\n",
              "      <td>-0.255210</td>\n",
              "      <td>-0.955845</td>\n",
              "      <td>0.231578</td>\n",
              "      <td>0.643818</td>\n",
              "      <td>-0.134332</td>\n",
              "      <td>-0.127543</td>\n",
              "      <td>31.86</td>\n",
              "      <td>0</td>\n",
              "    </tr>\n",
              "    <tr>\n",
              "      <th>983</th>\n",
              "      <td>132141.0</td>\n",
              "      <td>0.023487</td>\n",
              "      <td>0.717411</td>\n",
              "      <td>0.155181</td>\n",
              "      <td>-0.764103</td>\n",
              "      <td>0.509781</td>\n",
              "      <td>-0.648802</td>\n",
              "      <td>0.815664</td>\n",
              "      <td>0.031421</td>\n",
              "      <td>-0.092055</td>\n",
              "      <td>-0.204289</td>\n",
              "      <td>0.272275</td>\n",
              "      <td>0.054032</td>\n",
              "      <td>-1.272565</td>\n",
              "      <td>0.539246</td>\n",
              "      <td>-0.942829</td>\n",
              "      <td>0.255087</td>\n",
              "      <td>-0.703824</td>\n",
              "      <td>0.004862</td>\n",
              "      <td>0.334650</td>\n",
              "      <td>-0.098599</td>\n",
              "      <td>-0.244521</td>\n",
              "      <td>-0.620431</td>\n",
              "      <td>0.031711</td>\n",
              "      <td>-0.377174</td>\n",
              "      <td>-0.519329</td>\n",
              "      <td>0.144865</td>\n",
              "      <td>0.234897</td>\n",
              "      <td>0.081276</td>\n",
              "      <td>2.69</td>\n",
              "      <td>0</td>\n",
              "    </tr>\n",
              "  </tbody>\n",
              "</table>\n",
              "<p>984 rows × 31 columns</p>\n",
              "</div>"
            ],
            "text/plain": [
              "         Time        V1        V2        V3  ...       V27       V28  Amount  Class\n",
              "0       406.0 -2.312227  1.951992 -1.609851  ...  0.261145 -0.143276    0.00      1\n",
              "1       472.0 -3.043541 -3.157307  1.088463  ... -0.252773  0.035764  529.00      1\n",
              "2      4462.0 -2.303350  1.759247 -0.359745  ...  0.039566 -0.153029  239.93      1\n",
              "3      6986.0 -4.397974  1.358367 -2.592844  ... -0.827136  0.849573   59.00      1\n",
              "4      7519.0  1.234235  3.019740 -4.304597  ... -0.010016  0.146793    1.00      1\n",
              "..        ...       ...       ...       ...  ...       ...       ...     ...    ...\n",
              "979   46918.0  1.422248 -0.461950  0.250672  ...  0.010016  0.005478   10.00      0\n",
              "980   57242.0 -0.640578 -0.835632  1.669403  ...  0.085658  0.098313   78.00      0\n",
              "981  121725.0  1.139107 -3.077281 -3.039725  ... -0.202199  0.009094  642.80      0\n",
              "982  113839.0  0.184878  1.766164 -0.070423  ... -0.134332 -0.127543   31.86      0\n",
              "983  132141.0  0.023487  0.717411  0.155181  ...  0.234897  0.081276    2.69      0\n",
              "\n",
              "[984 rows x 31 columns]"
            ]
          },
          "metadata": {
            "tags": []
          },
          "execution_count": 23
        }
      ]
    },
    {
      "cell_type": "code",
      "metadata": {
        "id": "Y9tnPj5CV3wg",
        "colab_type": "code",
        "colab": {
          "base_uri": "https://localhost:8080/",
          "height": 73
        },
        "outputId": "67fd0cd6-fad9-4543-ef42-24ec291b4b0c"
      },
      "source": [
        "df['Class'].value_counts()"
      ],
      "execution_count": 25,
      "outputs": [
        {
          "output_type": "execute_result",
          "data": {
            "text/plain": [
              "1    492\n",
              "0    492\n",
              "Name: Class, dtype: int64"
            ]
          },
          "metadata": {
            "tags": []
          },
          "execution_count": 25
        }
      ]
    },
    {
      "cell_type": "code",
      "metadata": {
        "id": "YKm4uyw5V_EX",
        "colab_type": "code",
        "colab": {}
      },
      "source": [
        "X = df.drop('Class',axis=1)\n",
        "y = df['Class']"
      ],
      "execution_count": 27,
      "outputs": []
    },
    {
      "cell_type": "code",
      "metadata": {
        "id": "fGNvZ0gfWNRp",
        "colab_type": "code",
        "colab": {}
      },
      "source": [
        "X_train, X_test, y_train, y_test = train_test_split(X,y, test_size = 0.2, random_state = 0, stratify =y)"
      ],
      "execution_count": 28,
      "outputs": []
    },
    {
      "cell_type": "code",
      "metadata": {
        "id": "24pS9cOvWZwy",
        "colab_type": "code",
        "colab": {
          "base_uri": "https://localhost:8080/",
          "height": 36
        },
        "outputId": "f9304768-4ec1-4bcc-85c7-92d12b2dfb7a"
      },
      "source": [
        "X_train.shape, X_test.shape, y_train.shape, y_test.shape"
      ],
      "execution_count": 29,
      "outputs": [
        {
          "output_type": "execute_result",
          "data": {
            "text/plain": [
              "((787, 30), (197, 30), (787,), (197,))"
            ]
          },
          "metadata": {
            "tags": []
          },
          "execution_count": 29
        }
      ]
    },
    {
      "cell_type": "code",
      "metadata": {
        "id": "x5k_hn5sWg14",
        "colab_type": "code",
        "colab": {}
      },
      "source": [
        "scaler = StandardScaler()\n",
        "X_train = scaler.fit_transform(X_train)\n",
        "X_test = scaler.transform(X_test)"
      ],
      "execution_count": 30,
      "outputs": []
    },
    {
      "cell_type": "code",
      "metadata": {
        "id": "jckg2XCVWrNw",
        "colab_type": "code",
        "colab": {}
      },
      "source": [
        "y_train= y_train.to_numpy()\n",
        "y_test = y_test.to_numpy()"
      ],
      "execution_count": 31,
      "outputs": []
    },
    {
      "cell_type": "code",
      "metadata": {
        "id": "_XUVpOUmWwxF",
        "colab_type": "code",
        "colab": {
          "base_uri": "https://localhost:8080/",
          "height": 36
        },
        "outputId": "f59b47c3-42a4-43ef-b5d7-52d5010d6518"
      },
      "source": [
        "X_train = X_train.reshape(X_train.shape[0],X_train.shape[1],1)\n",
        "X_test = X_test.reshape(X_test.shape[0],X_test.shape[1],1)\n",
        "X_train.shape, X_test.shape"
      ],
      "execution_count": 34,
      "outputs": [
        {
          "output_type": "execute_result",
          "data": {
            "text/plain": [
              "((787, 30, 1), (197, 30, 1))"
            ]
          },
          "metadata": {
            "tags": []
          },
          "execution_count": 34
        }
      ]
    },
    {
      "cell_type": "code",
      "metadata": {
        "id": "LZ43IEvHWzDC",
        "colab_type": "code",
        "colab": {}
      },
      "source": [
        ""
      ],
      "execution_count": null,
      "outputs": []
    },
    {
      "cell_type": "markdown",
      "metadata": {
        "id": "xdq3X2N3XJ3y",
        "colab_type": "text"
      },
      "source": [
        "### Build CNN Architecture"
      ]
    },
    {
      "cell_type": "code",
      "metadata": {
        "id": "HuH480UVXNZN",
        "colab_type": "code",
        "colab": {
          "base_uri": "https://localhost:8080/",
          "height": 538
        },
        "outputId": "781e0de8-90b5-44b4-ec41-fdc658080f28"
      },
      "source": [
        "model = tf.keras.Sequential([\n",
        "                             tf.keras.layers.Conv1D(32, 2, activation = 'relu', input_shape=X_train[0].shape),\n",
        "                             tf.keras.layers.BatchNormalization(),\n",
        "                             tf.keras.layers.Dropout(0.2),\n",
        "                             tf.keras.layers.Conv1D(64, 2, activation = 'relu'),\n",
        "                             tf.keras.layers.BatchNormalization(),\n",
        "                             tf.keras.layers.Dropout(0.5),\n",
        "                             tf.keras.layers.Flatten(),\n",
        "                             tf.keras.layers.Dense(64, activation='relu'),\n",
        "                             tf.keras.layers.Dropout(0.5),\n",
        "                             tf.keras.layers.Dense(1, activation='sigmoid')\n",
        "])\n",
        "\n",
        "model.summary()"
      ],
      "execution_count": 46,
      "outputs": [
        {
          "output_type": "stream",
          "text": [
            "Model: \"sequential_1\"\n",
            "_________________________________________________________________\n",
            "Layer (type)                 Output Shape              Param #   \n",
            "=================================================================\n",
            "conv1d_3 (Conv1D)            (None, 29, 32)            96        \n",
            "_________________________________________________________________\n",
            "batch_normalization_2 (Batch (None, 29, 32)            128       \n",
            "_________________________________________________________________\n",
            "dropout_3 (Dropout)          (None, 29, 32)            0         \n",
            "_________________________________________________________________\n",
            "conv1d_4 (Conv1D)            (None, 28, 64)            4160      \n",
            "_________________________________________________________________\n",
            "batch_normalization_3 (Batch (None, 28, 64)            256       \n",
            "_________________________________________________________________\n",
            "dropout_4 (Dropout)          (None, 28, 64)            0         \n",
            "_________________________________________________________________\n",
            "flatten_1 (Flatten)          (None, 1792)              0         \n",
            "_________________________________________________________________\n",
            "dense_2 (Dense)              (None, 64)                114752    \n",
            "_________________________________________________________________\n",
            "dropout_5 (Dropout)          (None, 64)                0         \n",
            "_________________________________________________________________\n",
            "dense_3 (Dense)              (None, 1)                 65        \n",
            "=================================================================\n",
            "Total params: 119,457\n",
            "Trainable params: 119,265\n",
            "Non-trainable params: 192\n",
            "_________________________________________________________________\n"
          ],
          "name": "stdout"
        }
      ]
    },
    {
      "cell_type": "code",
      "metadata": {
        "id": "XrGoYVSWYJUx",
        "colab_type": "code",
        "colab": {}
      },
      "source": [
        "model.compile(optimizer = tf.keras.optimizers.Adam(lr=0.0001), loss='binary_crossentropy', metrics=['accuracy'])"
      ],
      "execution_count": 47,
      "outputs": []
    },
    {
      "cell_type": "code",
      "metadata": {
        "id": "UfoxejF0YpdR",
        "colab_type": "code",
        "colab": {
          "base_uri": "https://localhost:8080/",
          "height": 1000
        },
        "outputId": "528904f5-261f-4399-e7bc-53a1ebb7540f"
      },
      "source": [
        "epochs =100\n",
        "history = model.fit(X_train, y_train, \n",
        "                    validation_data = (X_test, y_test), verbose=2, epochs = epochs)"
      ],
      "execution_count": 48,
      "outputs": [
        {
          "output_type": "stream",
          "text": [
            "Epoch 1/100\n",
            "25/25 - 0s - loss: 0.6953 - accuracy: 0.7039 - val_loss: 0.6280 - val_accuracy: 0.8426\n",
            "Epoch 2/100\n",
            "25/25 - 0s - loss: 0.5134 - accuracy: 0.7929 - val_loss: 0.5836 - val_accuracy: 0.8934\n",
            "Epoch 3/100\n",
            "25/25 - 0s - loss: 0.4098 - accuracy: 0.8450 - val_loss: 0.5444 - val_accuracy: 0.9036\n",
            "Epoch 4/100\n",
            "25/25 - 0s - loss: 0.3580 - accuracy: 0.8640 - val_loss: 0.5134 - val_accuracy: 0.9086\n",
            "Epoch 5/100\n",
            "25/25 - 0s - loss: 0.3003 - accuracy: 0.8895 - val_loss: 0.4795 - val_accuracy: 0.9137\n",
            "Epoch 6/100\n",
            "25/25 - 0s - loss: 0.3331 - accuracy: 0.8729 - val_loss: 0.4498 - val_accuracy: 0.9188\n",
            "Epoch 7/100\n",
            "25/25 - 0s - loss: 0.2905 - accuracy: 0.8983 - val_loss: 0.4192 - val_accuracy: 0.9188\n",
            "Epoch 8/100\n",
            "25/25 - 0s - loss: 0.2856 - accuracy: 0.9009 - val_loss: 0.3908 - val_accuracy: 0.9137\n",
            "Epoch 9/100\n",
            "25/25 - 0s - loss: 0.2251 - accuracy: 0.9187 - val_loss: 0.3660 - val_accuracy: 0.9137\n",
            "Epoch 10/100\n",
            "25/25 - 0s - loss: 0.2593 - accuracy: 0.9022 - val_loss: 0.3303 - val_accuracy: 0.9239\n",
            "Epoch 11/100\n",
            "25/25 - 0s - loss: 0.2326 - accuracy: 0.9212 - val_loss: 0.3087 - val_accuracy: 0.9239\n",
            "Epoch 12/100\n",
            "25/25 - 0s - loss: 0.2134 - accuracy: 0.9276 - val_loss: 0.2780 - val_accuracy: 0.9239\n",
            "Epoch 13/100\n",
            "25/25 - 0s - loss: 0.2185 - accuracy: 0.9276 - val_loss: 0.2561 - val_accuracy: 0.9289\n",
            "Epoch 14/100\n",
            "25/25 - 0s - loss: 0.2318 - accuracy: 0.9085 - val_loss: 0.2317 - val_accuracy: 0.9239\n",
            "Epoch 15/100\n",
            "25/25 - 0s - loss: 0.1893 - accuracy: 0.9352 - val_loss: 0.2208 - val_accuracy: 0.9340\n",
            "Epoch 16/100\n",
            "25/25 - 0s - loss: 0.1858 - accuracy: 0.9390 - val_loss: 0.2072 - val_accuracy: 0.9340\n",
            "Epoch 17/100\n",
            "25/25 - 0s - loss: 0.1915 - accuracy: 0.9263 - val_loss: 0.1951 - val_accuracy: 0.9239\n",
            "Epoch 18/100\n",
            "25/25 - 0s - loss: 0.1881 - accuracy: 0.9365 - val_loss: 0.1900 - val_accuracy: 0.9289\n",
            "Epoch 19/100\n",
            "25/25 - 0s - loss: 0.1733 - accuracy: 0.9428 - val_loss: 0.1847 - val_accuracy: 0.9340\n",
            "Epoch 20/100\n",
            "25/25 - 0s - loss: 0.2086 - accuracy: 0.9377 - val_loss: 0.1834 - val_accuracy: 0.9391\n",
            "Epoch 21/100\n",
            "25/25 - 0s - loss: 0.1711 - accuracy: 0.9403 - val_loss: 0.1769 - val_accuracy: 0.9391\n",
            "Epoch 22/100\n",
            "25/25 - 0s - loss: 0.1883 - accuracy: 0.9174 - val_loss: 0.1748 - val_accuracy: 0.9340\n",
            "Epoch 23/100\n",
            "25/25 - 0s - loss: 0.1686 - accuracy: 0.9314 - val_loss: 0.1743 - val_accuracy: 0.9289\n",
            "Epoch 24/100\n",
            "25/25 - 0s - loss: 0.2124 - accuracy: 0.9301 - val_loss: 0.1740 - val_accuracy: 0.9289\n",
            "Epoch 25/100\n",
            "25/25 - 0s - loss: 0.1784 - accuracy: 0.9365 - val_loss: 0.1753 - val_accuracy: 0.9239\n",
            "Epoch 26/100\n",
            "25/25 - 0s - loss: 0.1796 - accuracy: 0.9428 - val_loss: 0.1738 - val_accuracy: 0.9289\n",
            "Epoch 27/100\n",
            "25/25 - 0s - loss: 0.1720 - accuracy: 0.9390 - val_loss: 0.1721 - val_accuracy: 0.9289\n",
            "Epoch 28/100\n",
            "25/25 - 0s - loss: 0.1687 - accuracy: 0.9365 - val_loss: 0.1711 - val_accuracy: 0.9289\n",
            "Epoch 29/100\n",
            "25/25 - 0s - loss: 0.1644 - accuracy: 0.9428 - val_loss: 0.1722 - val_accuracy: 0.9289\n",
            "Epoch 30/100\n",
            "25/25 - 0s - loss: 0.1658 - accuracy: 0.9416 - val_loss: 0.1716 - val_accuracy: 0.9289\n",
            "Epoch 31/100\n",
            "25/25 - 0s - loss: 0.1665 - accuracy: 0.9416 - val_loss: 0.1697 - val_accuracy: 0.9289\n",
            "Epoch 32/100\n",
            "25/25 - 0s - loss: 0.1815 - accuracy: 0.9403 - val_loss: 0.1676 - val_accuracy: 0.9289\n",
            "Epoch 33/100\n",
            "25/25 - 0s - loss: 0.1556 - accuracy: 0.9454 - val_loss: 0.1660 - val_accuracy: 0.9289\n",
            "Epoch 34/100\n",
            "25/25 - 0s - loss: 0.1493 - accuracy: 0.9517 - val_loss: 0.1653 - val_accuracy: 0.9289\n",
            "Epoch 35/100\n",
            "25/25 - 0s - loss: 0.1313 - accuracy: 0.9530 - val_loss: 0.1655 - val_accuracy: 0.9289\n",
            "Epoch 36/100\n",
            "25/25 - 0s - loss: 0.1706 - accuracy: 0.9492 - val_loss: 0.1674 - val_accuracy: 0.9239\n",
            "Epoch 37/100\n",
            "25/25 - 0s - loss: 0.1621 - accuracy: 0.9479 - val_loss: 0.1674 - val_accuracy: 0.9239\n",
            "Epoch 38/100\n",
            "25/25 - 0s - loss: 0.1594 - accuracy: 0.9479 - val_loss: 0.1660 - val_accuracy: 0.9239\n",
            "Epoch 39/100\n",
            "25/25 - 0s - loss: 0.1488 - accuracy: 0.9454 - val_loss: 0.1660 - val_accuracy: 0.9239\n",
            "Epoch 40/100\n",
            "25/25 - 0s - loss: 0.1607 - accuracy: 0.9390 - val_loss: 0.1675 - val_accuracy: 0.9289\n",
            "Epoch 41/100\n",
            "25/25 - 0s - loss: 0.1385 - accuracy: 0.9504 - val_loss: 0.1676 - val_accuracy: 0.9289\n",
            "Epoch 42/100\n",
            "25/25 - 0s - loss: 0.1519 - accuracy: 0.9543 - val_loss: 0.1673 - val_accuracy: 0.9289\n",
            "Epoch 43/100\n",
            "25/25 - 0s - loss: 0.1399 - accuracy: 0.9479 - val_loss: 0.1677 - val_accuracy: 0.9289\n",
            "Epoch 44/100\n",
            "25/25 - 0s - loss: 0.1530 - accuracy: 0.9479 - val_loss: 0.1675 - val_accuracy: 0.9289\n",
            "Epoch 45/100\n",
            "25/25 - 0s - loss: 0.1454 - accuracy: 0.9530 - val_loss: 0.1669 - val_accuracy: 0.9289\n",
            "Epoch 46/100\n",
            "25/25 - 0s - loss: 0.1378 - accuracy: 0.9504 - val_loss: 0.1659 - val_accuracy: 0.9340\n",
            "Epoch 47/100\n",
            "25/25 - 0s - loss: 0.1582 - accuracy: 0.9517 - val_loss: 0.1664 - val_accuracy: 0.9340\n",
            "Epoch 48/100\n",
            "25/25 - 0s - loss: 0.1226 - accuracy: 0.9504 - val_loss: 0.1656 - val_accuracy: 0.9340\n",
            "Epoch 49/100\n",
            "25/25 - 0s - loss: 0.1450 - accuracy: 0.9555 - val_loss: 0.1634 - val_accuracy: 0.9289\n",
            "Epoch 50/100\n",
            "25/25 - 0s - loss: 0.1735 - accuracy: 0.9403 - val_loss: 0.1641 - val_accuracy: 0.9289\n",
            "Epoch 51/100\n",
            "25/25 - 0s - loss: 0.1418 - accuracy: 0.9454 - val_loss: 0.1634 - val_accuracy: 0.9340\n",
            "Epoch 52/100\n",
            "25/25 - 0s - loss: 0.1325 - accuracy: 0.9530 - val_loss: 0.1640 - val_accuracy: 0.9289\n",
            "Epoch 53/100\n",
            "25/25 - 0s - loss: 0.1221 - accuracy: 0.9581 - val_loss: 0.1666 - val_accuracy: 0.9239\n",
            "Epoch 54/100\n",
            "25/25 - 0s - loss: 0.1458 - accuracy: 0.9492 - val_loss: 0.1656 - val_accuracy: 0.9289\n",
            "Epoch 55/100\n",
            "25/25 - 0s - loss: 0.1124 - accuracy: 0.9619 - val_loss: 0.1647 - val_accuracy: 0.9340\n",
            "Epoch 56/100\n",
            "25/25 - 0s - loss: 0.1400 - accuracy: 0.9479 - val_loss: 0.1648 - val_accuracy: 0.9340\n",
            "Epoch 57/100\n",
            "25/25 - 0s - loss: 0.1180 - accuracy: 0.9555 - val_loss: 0.1635 - val_accuracy: 0.9340\n",
            "Epoch 58/100\n",
            "25/25 - 0s - loss: 0.1246 - accuracy: 0.9530 - val_loss: 0.1636 - val_accuracy: 0.9340\n",
            "Epoch 59/100\n",
            "25/25 - 0s - loss: 0.1414 - accuracy: 0.9479 - val_loss: 0.1646 - val_accuracy: 0.9340\n",
            "Epoch 60/100\n",
            "25/25 - 0s - loss: 0.1304 - accuracy: 0.9543 - val_loss: 0.1640 - val_accuracy: 0.9391\n",
            "Epoch 61/100\n",
            "25/25 - 0s - loss: 0.1374 - accuracy: 0.9517 - val_loss: 0.1632 - val_accuracy: 0.9391\n",
            "Epoch 62/100\n",
            "25/25 - 0s - loss: 0.1384 - accuracy: 0.9466 - val_loss: 0.1636 - val_accuracy: 0.9391\n",
            "Epoch 63/100\n",
            "25/25 - 0s - loss: 0.1296 - accuracy: 0.9568 - val_loss: 0.1648 - val_accuracy: 0.9391\n",
            "Epoch 64/100\n",
            "25/25 - 0s - loss: 0.1356 - accuracy: 0.9504 - val_loss: 0.1651 - val_accuracy: 0.9340\n",
            "Epoch 65/100\n",
            "25/25 - 0s - loss: 0.1177 - accuracy: 0.9543 - val_loss: 0.1644 - val_accuracy: 0.9391\n",
            "Epoch 66/100\n",
            "25/25 - 0s - loss: 0.1265 - accuracy: 0.9593 - val_loss: 0.1642 - val_accuracy: 0.9391\n",
            "Epoch 67/100\n",
            "25/25 - 0s - loss: 0.1248 - accuracy: 0.9568 - val_loss: 0.1642 - val_accuracy: 0.9391\n",
            "Epoch 68/100\n",
            "25/25 - 0s - loss: 0.1137 - accuracy: 0.9606 - val_loss: 0.1663 - val_accuracy: 0.9391\n",
            "Epoch 69/100\n",
            "25/25 - 0s - loss: 0.1215 - accuracy: 0.9581 - val_loss: 0.1664 - val_accuracy: 0.9340\n",
            "Epoch 70/100\n",
            "25/25 - 0s - loss: 0.1221 - accuracy: 0.9593 - val_loss: 0.1647 - val_accuracy: 0.9340\n",
            "Epoch 71/100\n",
            "25/25 - 0s - loss: 0.1308 - accuracy: 0.9479 - val_loss: 0.1651 - val_accuracy: 0.9391\n",
            "Epoch 72/100\n",
            "25/25 - 0s - loss: 0.1393 - accuracy: 0.9466 - val_loss: 0.1666 - val_accuracy: 0.9391\n",
            "Epoch 73/100\n",
            "25/25 - 0s - loss: 0.1197 - accuracy: 0.9543 - val_loss: 0.1669 - val_accuracy: 0.9391\n",
            "Epoch 74/100\n",
            "25/25 - 0s - loss: 0.1247 - accuracy: 0.9504 - val_loss: 0.1670 - val_accuracy: 0.9391\n",
            "Epoch 75/100\n",
            "25/25 - 0s - loss: 0.1149 - accuracy: 0.9593 - val_loss: 0.1683 - val_accuracy: 0.9391\n",
            "Epoch 76/100\n",
            "25/25 - 0s - loss: 0.1268 - accuracy: 0.9568 - val_loss: 0.1674 - val_accuracy: 0.9391\n",
            "Epoch 77/100\n",
            "25/25 - 0s - loss: 0.1115 - accuracy: 0.9555 - val_loss: 0.1675 - val_accuracy: 0.9391\n",
            "Epoch 78/100\n",
            "25/25 - 0s - loss: 0.1162 - accuracy: 0.9593 - val_loss: 0.1683 - val_accuracy: 0.9391\n",
            "Epoch 79/100\n",
            "25/25 - 0s - loss: 0.1075 - accuracy: 0.9593 - val_loss: 0.1678 - val_accuracy: 0.9391\n",
            "Epoch 80/100\n",
            "25/25 - 0s - loss: 0.1145 - accuracy: 0.9543 - val_loss: 0.1672 - val_accuracy: 0.9391\n",
            "Epoch 81/100\n",
            "25/25 - 0s - loss: 0.0928 - accuracy: 0.9682 - val_loss: 0.1669 - val_accuracy: 0.9340\n",
            "Epoch 82/100\n",
            "25/25 - 0s - loss: 0.1106 - accuracy: 0.9632 - val_loss: 0.1654 - val_accuracy: 0.9391\n",
            "Epoch 83/100\n",
            "25/25 - 0s - loss: 0.1060 - accuracy: 0.9606 - val_loss: 0.1664 - val_accuracy: 0.9340\n",
            "Epoch 84/100\n",
            "25/25 - 0s - loss: 0.1205 - accuracy: 0.9568 - val_loss: 0.1657 - val_accuracy: 0.9391\n",
            "Epoch 85/100\n",
            "25/25 - 0s - loss: 0.1119 - accuracy: 0.9593 - val_loss: 0.1656 - val_accuracy: 0.9391\n",
            "Epoch 86/100\n",
            "25/25 - 0s - loss: 0.1151 - accuracy: 0.9644 - val_loss: 0.1651 - val_accuracy: 0.9391\n",
            "Epoch 87/100\n",
            "25/25 - 0s - loss: 0.1096 - accuracy: 0.9568 - val_loss: 0.1648 - val_accuracy: 0.9391\n",
            "Epoch 88/100\n",
            "25/25 - 0s - loss: 0.1178 - accuracy: 0.9632 - val_loss: 0.1675 - val_accuracy: 0.9391\n",
            "Epoch 89/100\n",
            "25/25 - 0s - loss: 0.1045 - accuracy: 0.9644 - val_loss: 0.1677 - val_accuracy: 0.9391\n",
            "Epoch 90/100\n",
            "25/25 - 0s - loss: 0.0953 - accuracy: 0.9746 - val_loss: 0.1689 - val_accuracy: 0.9340\n",
            "Epoch 91/100\n",
            "25/25 - 0s - loss: 0.1178 - accuracy: 0.9517 - val_loss: 0.1693 - val_accuracy: 0.9340\n",
            "Epoch 92/100\n",
            "25/25 - 0s - loss: 0.1030 - accuracy: 0.9593 - val_loss: 0.1709 - val_accuracy: 0.9340\n",
            "Epoch 93/100\n",
            "25/25 - 0s - loss: 0.0983 - accuracy: 0.9657 - val_loss: 0.1717 - val_accuracy: 0.9340\n",
            "Epoch 94/100\n",
            "25/25 - 0s - loss: 0.1163 - accuracy: 0.9619 - val_loss: 0.1684 - val_accuracy: 0.9391\n",
            "Epoch 95/100\n",
            "25/25 - 0s - loss: 0.1178 - accuracy: 0.9517 - val_loss: 0.1715 - val_accuracy: 0.9340\n",
            "Epoch 96/100\n",
            "25/25 - 0s - loss: 0.1012 - accuracy: 0.9657 - val_loss: 0.1734 - val_accuracy: 0.9340\n",
            "Epoch 97/100\n",
            "25/25 - 0s - loss: 0.1107 - accuracy: 0.9543 - val_loss: 0.1712 - val_accuracy: 0.9340\n",
            "Epoch 98/100\n",
            "25/25 - 0s - loss: 0.1121 - accuracy: 0.9568 - val_loss: 0.1752 - val_accuracy: 0.9340\n",
            "Epoch 99/100\n",
            "25/25 - 0s - loss: 0.0989 - accuracy: 0.9657 - val_loss: 0.1737 - val_accuracy: 0.9340\n",
            "Epoch 100/100\n",
            "25/25 - 0s - loss: 0.1095 - accuracy: 0.9593 - val_loss: 0.1733 - val_accuracy: 0.9340\n"
          ],
          "name": "stdout"
        }
      ]
    },
    {
      "cell_type": "code",
      "metadata": {
        "id": "yZbiNWCwY0sv",
        "colab_type": "code",
        "colab": {}
      },
      "source": [
        "def plot_learning(history, epochs):\n",
        "  epochs_range= range(1,epochs+1)\n",
        "  plt.plot(epochs_range, history.history['accuracy'])\n",
        "  plt.plot(epochs_range, history.history['val_accuracy'])\n",
        "  plt.title('Accuracy Model')\n",
        "  plt.ylabel('Accuracy')\n",
        "  plt.xlabel('Epoch')\n",
        "  plt.legend(['Train', 'Val'], loc='upper left')\n",
        "  plt.show()\n",
        "\n",
        "  plt.plot(epochs_range, history.history['loss'])\n",
        "  plt.plot(epochs_range, history.history['val_loss'])\n",
        "  plt.title('Loss Model')\n",
        "  plt.ylabel('Loss')\n",
        "  plt.xlabel('Epoch')\n",
        "  plt.legend(['Train', 'Val'], loc='upper left')\n",
        "  plt.show()\n"
      ],
      "execution_count": 49,
      "outputs": []
    },
    {
      "cell_type": "code",
      "metadata": {
        "id": "1T8GJ2U5aI3U",
        "colab_type": "code",
        "colab": {
          "base_uri": "https://localhost:8080/",
          "height": 573
        },
        "outputId": "3ccf11b1-8a5a-4239-cd2d-dfb2eab7450e"
      },
      "source": [
        "epochs=100\n",
        "plot_learning(history, epochs)"
      ],
      "execution_count": 50,
      "outputs": [
        {
          "output_type": "display_data",
          "data": {
            "image/png": "[encoded data removed]",
            "text/plain": [
              "<Figure size 432x288 with 1 Axes>"
            ]
          },
          "metadata": {
            "tags": [],
            "needs_background": "light"
          }
        },
        {
          "output_type": "display_data",
          "data": {
            "image/png": "[encoded data removed]",
            "text/plain": [
              "<Figure size 432x288 with 1 Axes>"
            ]
          },
          "metadata": {
            "tags": [],
            "needs_background": "light"
          }
        }
      ]
    },
    {
      "cell_type": "markdown",
      "metadata": {
        "id": "xD2XVLDIbS9Y",
        "colab_type": "text"
      },
      "source": [
        "### Adding the MaxPool1D, and compare"
      ]
    },
    {
      "cell_type": "code",
      "metadata": {
        "id": "jsa2w233aN0t",
        "colab_type": "code",
        "colab": {
          "base_uri": "https://localhost:8080/",
          "height": 613
        },
        "outputId": "d65cb6e8-6a0e-49fe-8ada-dac0ee61faa0"
      },
      "source": [
        "model = tf.keras.Sequential([\n",
        "                             tf.keras.layers.Conv1D(32, 2, activation = 'relu', input_shape=X_train[0].shape),\n",
        "                             tf.keras.layers.BatchNormalization(),\n",
        "                             tf.keras.layers.MaxPool1D(2),\n",
        "                             tf.keras.layers.Dropout(0.2),\n",
        "                             tf.keras.layers.Conv1D(64, 2, activation = 'relu'),\n",
        "                             tf.keras.layers.BatchNormalization(),\n",
        "                             tf.keras.layers.MaxPool1D(2),\n",
        "                             tf.keras.layers.Dropout(0.5),\n",
        "                             tf.keras.layers.Flatten(),\n",
        "                             tf.keras.layers.Dense(64, activation='relu'),\n",
        "                             tf.keras.layers.Dropout(0.5),\n",
        "                             tf.keras.layers.Dense(1, activation='sigmoid')\n",
        "])\n",
        "\n",
        "model.summary()"
      ],
      "execution_count": 52,
      "outputs": [
        {
          "output_type": "stream",
          "text": [
            "Model: \"sequential_2\"\n",
            "_________________________________________________________________\n",
            "Layer (type)                 Output Shape              Param #   \n",
            "=================================================================\n",
            "conv1d_5 (Conv1D)            (None, 29, 32)            96        \n",
            "_________________________________________________________________\n",
            "batch_normalization_4 (Batch (None, 29, 32)            128       \n",
            "_________________________________________________________________\n",
            "max_pooling1d (MaxPooling1D) (None, 14, 32)            0         \n",
            "_________________________________________________________________\n",
            "dropout_6 (Dropout)          (None, 14, 32)            0         \n",
            "_________________________________________________________________\n",
            "conv1d_6 (Conv1D)            (None, 13, 64)            4160      \n",
            "_________________________________________________________________\n",
            "batch_normalization_5 (Batch (None, 13, 64)            256       \n",
            "_________________________________________________________________\n",
            "max_pooling1d_1 (MaxPooling1 (None, 6, 64)             0         \n",
            "_________________________________________________________________\n",
            "dropout_7 (Dropout)          (None, 6, 64)             0         \n",
            "_________________________________________________________________\n",
            "flatten_2 (Flatten)          (None, 384)               0         \n",
            "_________________________________________________________________\n",
            "dense_4 (Dense)              (None, 64)                24640     \n",
            "_________________________________________________________________\n",
            "dropout_8 (Dropout)          (None, 64)                0         \n",
            "_________________________________________________________________\n",
            "dense_5 (Dense)              (None, 1)                 65        \n",
            "=================================================================\n",
            "Total params: 29,345\n",
            "Trainable params: 29,153\n",
            "Non-trainable params: 192\n",
            "_________________________________________________________________\n"
          ],
          "name": "stdout"
        }
      ]
    },
    {
      "cell_type": "code",
      "metadata": {
        "id": "JTpHFj11a9pi",
        "colab_type": "code",
        "colab": {}
      },
      "source": [
        "model.compile(optimizer = tf.keras.optimizers.Adam(lr=0.0001), loss='binary_crossentropy', metrics=['accuracy'])"
      ],
      "execution_count": 53,
      "outputs": []
    },
    {
      "cell_type": "code",
      "metadata": {
        "id": "ldVKrpA6bBTZ",
        "colab_type": "code",
        "colab": {
          "base_uri": "https://localhost:8080/",
          "height": 1000
        },
        "outputId": "98bd3bd5-c949-4446-c8aa-9077e7822df9"
      },
      "source": [
        "epochs =100\n",
        "history = model.fit(X_train, y_train, \n",
        "                    validation_data = (X_test, y_test), verbose=2, epochs = epochs)"
      ],
      "execution_count": 54,
      "outputs": [
        {
          "output_type": "stream",
          "text": [
            "Epoch 1/100\n",
            "25/25 - 0s - loss: 1.5961 - accuracy: 0.4269 - val_loss: 0.6963 - val_accuracy: 0.5431\n",
            "Epoch 2/100\n",
            "25/25 - 0s - loss: 1.1976 - accuracy: 0.5260 - val_loss: 0.6535 - val_accuracy: 0.7107\n",
            "Epoch 3/100\n",
            "25/25 - 0s - loss: 1.0576 - accuracy: 0.5616 - val_loss: 0.6238 - val_accuracy: 0.6853\n",
            "Epoch 4/100\n",
            "25/25 - 0s - loss: 0.7799 - accuracy: 0.6480 - val_loss: 0.6040 - val_accuracy: 0.6701\n",
            "Epoch 5/100\n",
            "25/25 - 0s - loss: 0.7082 - accuracy: 0.6912 - val_loss: 0.5885 - val_accuracy: 0.6650\n",
            "Epoch 6/100\n",
            "25/25 - 0s - loss: 0.6431 - accuracy: 0.7103 - val_loss: 0.5719 - val_accuracy: 0.6751\n",
            "Epoch 7/100\n",
            "25/25 - 0s - loss: 0.5906 - accuracy: 0.7306 - val_loss: 0.5520 - val_accuracy: 0.6904\n",
            "Epoch 8/100\n",
            "25/25 - 0s - loss: 0.5299 - accuracy: 0.7649 - val_loss: 0.5295 - val_accuracy: 0.7107\n",
            "Epoch 9/100\n",
            "25/25 - 0s - loss: 0.5094 - accuracy: 0.7726 - val_loss: 0.5020 - val_accuracy: 0.7208\n",
            "Epoch 10/100\n",
            "25/25 - 0s - loss: 0.5236 - accuracy: 0.7954 - val_loss: 0.4752 - val_accuracy: 0.7360\n",
            "Epoch 11/100\n",
            "25/25 - 0s - loss: 0.4693 - accuracy: 0.7853 - val_loss: 0.4469 - val_accuracy: 0.7665\n",
            "Epoch 12/100\n",
            "25/25 - 0s - loss: 0.4422 - accuracy: 0.8094 - val_loss: 0.4173 - val_accuracy: 0.7970\n",
            "Epoch 13/100\n",
            "25/25 - 0s - loss: 0.3953 - accuracy: 0.8374 - val_loss: 0.3905 - val_accuracy: 0.8223\n",
            "Epoch 14/100\n",
            "25/25 - 0s - loss: 0.4168 - accuracy: 0.8272 - val_loss: 0.3653 - val_accuracy: 0.8274\n",
            "Epoch 15/100\n",
            "25/25 - 0s - loss: 0.3845 - accuracy: 0.8450 - val_loss: 0.3423 - val_accuracy: 0.8528\n",
            "Epoch 16/100\n",
            "25/25 - 0s - loss: 0.3762 - accuracy: 0.8551 - val_loss: 0.3236 - val_accuracy: 0.8528\n",
            "Epoch 17/100\n",
            "25/25 - 0s - loss: 0.3794 - accuracy: 0.8539 - val_loss: 0.3067 - val_accuracy: 0.8579\n",
            "Epoch 18/100\n",
            "25/25 - 0s - loss: 0.3882 - accuracy: 0.8564 - val_loss: 0.2953 - val_accuracy: 0.8579\n",
            "Epoch 19/100\n",
            "25/25 - 0s - loss: 0.3401 - accuracy: 0.8818 - val_loss: 0.2871 - val_accuracy: 0.8629\n",
            "Epoch 20/100\n",
            "25/25 - 0s - loss: 0.3282 - accuracy: 0.8831 - val_loss: 0.2792 - val_accuracy: 0.8680\n",
            "Epoch 21/100\n",
            "25/25 - 0s - loss: 0.3421 - accuracy: 0.8615 - val_loss: 0.2717 - val_accuracy: 0.8731\n",
            "Epoch 22/100\n",
            "25/25 - 0s - loss: 0.3300 - accuracy: 0.8806 - val_loss: 0.2643 - val_accuracy: 0.8832\n",
            "Epoch 23/100\n",
            "25/25 - 0s - loss: 0.3159 - accuracy: 0.8793 - val_loss: 0.2592 - val_accuracy: 0.8832\n",
            "Epoch 24/100\n",
            "25/25 - 0s - loss: 0.3053 - accuracy: 0.8996 - val_loss: 0.2572 - val_accuracy: 0.8832\n",
            "Epoch 25/100\n",
            "25/25 - 0s - loss: 0.2786 - accuracy: 0.8971 - val_loss: 0.2537 - val_accuracy: 0.8883\n",
            "Epoch 26/100\n",
            "25/25 - 0s - loss: 0.2897 - accuracy: 0.8844 - val_loss: 0.2524 - val_accuracy: 0.8883\n",
            "Epoch 27/100\n",
            "25/25 - 0s - loss: 0.2907 - accuracy: 0.8971 - val_loss: 0.2489 - val_accuracy: 0.8934\n",
            "Epoch 28/100\n",
            "25/25 - 0s - loss: 0.2997 - accuracy: 0.8882 - val_loss: 0.2478 - val_accuracy: 0.8934\n",
            "Epoch 29/100\n",
            "25/25 - 0s - loss: 0.2663 - accuracy: 0.9034 - val_loss: 0.2470 - val_accuracy: 0.8985\n",
            "Epoch 30/100\n",
            "25/25 - 0s - loss: 0.2881 - accuracy: 0.9098 - val_loss: 0.2460 - val_accuracy: 0.8985\n",
            "Epoch 31/100\n",
            "25/25 - 0s - loss: 0.2883 - accuracy: 0.8971 - val_loss: 0.2468 - val_accuracy: 0.8985\n",
            "Epoch 32/100\n",
            "25/25 - 0s - loss: 0.2696 - accuracy: 0.9085 - val_loss: 0.2452 - val_accuracy: 0.9036\n",
            "Epoch 33/100\n",
            "25/25 - 0s - loss: 0.2491 - accuracy: 0.9136 - val_loss: 0.2452 - val_accuracy: 0.9036\n",
            "Epoch 34/100\n",
            "25/25 - 0s - loss: 0.2779 - accuracy: 0.9047 - val_loss: 0.2450 - val_accuracy: 0.9036\n",
            "Epoch 35/100\n",
            "25/25 - 0s - loss: 0.2556 - accuracy: 0.9149 - val_loss: 0.2403 - val_accuracy: 0.9036\n",
            "Epoch 36/100\n",
            "25/25 - 0s - loss: 0.2525 - accuracy: 0.8983 - val_loss: 0.2393 - val_accuracy: 0.9036\n",
            "Epoch 37/100\n",
            "25/25 - 0s - loss: 0.2757 - accuracy: 0.8958 - val_loss: 0.2392 - val_accuracy: 0.9036\n",
            "Epoch 38/100\n",
            "25/25 - 0s - loss: 0.2627 - accuracy: 0.9034 - val_loss: 0.2394 - val_accuracy: 0.9036\n",
            "Epoch 39/100\n",
            "25/25 - 0s - loss: 0.2237 - accuracy: 0.9199 - val_loss: 0.2378 - val_accuracy: 0.9086\n",
            "Epoch 40/100\n",
            "25/25 - 0s - loss: 0.2670 - accuracy: 0.8996 - val_loss: 0.2369 - val_accuracy: 0.9137\n",
            "Epoch 41/100\n",
            "25/25 - 0s - loss: 0.2493 - accuracy: 0.9111 - val_loss: 0.2355 - val_accuracy: 0.9188\n",
            "Epoch 42/100\n",
            "25/25 - 0s - loss: 0.2530 - accuracy: 0.9085 - val_loss: 0.2360 - val_accuracy: 0.9137\n",
            "Epoch 43/100\n",
            "25/25 - 0s - loss: 0.2488 - accuracy: 0.9085 - val_loss: 0.2344 - val_accuracy: 0.9239\n",
            "Epoch 44/100\n",
            "25/25 - 0s - loss: 0.2336 - accuracy: 0.9111 - val_loss: 0.2328 - val_accuracy: 0.9239\n",
            "Epoch 45/100\n",
            "25/25 - 0s - loss: 0.2390 - accuracy: 0.9098 - val_loss: 0.2337 - val_accuracy: 0.9239\n",
            "Epoch 46/100\n",
            "25/25 - 0s - loss: 0.2565 - accuracy: 0.9085 - val_loss: 0.2321 - val_accuracy: 0.9239\n",
            "Epoch 47/100\n",
            "25/25 - 0s - loss: 0.2236 - accuracy: 0.9212 - val_loss: 0.2329 - val_accuracy: 0.9188\n",
            "Epoch 48/100\n",
            "25/25 - 0s - loss: 0.2301 - accuracy: 0.9161 - val_loss: 0.2304 - val_accuracy: 0.9239\n",
            "Epoch 49/100\n",
            "25/25 - 0s - loss: 0.2495 - accuracy: 0.9250 - val_loss: 0.2298 - val_accuracy: 0.9239\n",
            "Epoch 50/100\n",
            "25/25 - 0s - loss: 0.2154 - accuracy: 0.9263 - val_loss: 0.2283 - val_accuracy: 0.9239\n",
            "Epoch 51/100\n",
            "25/25 - 0s - loss: 0.2213 - accuracy: 0.9187 - val_loss: 0.2268 - val_accuracy: 0.9188\n",
            "Epoch 52/100\n",
            "25/25 - 0s - loss: 0.2135 - accuracy: 0.9225 - val_loss: 0.2249 - val_accuracy: 0.9188\n",
            "Epoch 53/100\n",
            "25/25 - 0s - loss: 0.2322 - accuracy: 0.9174 - val_loss: 0.2255 - val_accuracy: 0.9239\n",
            "Epoch 54/100\n",
            "25/25 - 0s - loss: 0.2129 - accuracy: 0.9238 - val_loss: 0.2248 - val_accuracy: 0.9188\n",
            "Epoch 55/100\n",
            "25/25 - 0s - loss: 0.2196 - accuracy: 0.9199 - val_loss: 0.2239 - val_accuracy: 0.9188\n",
            "Epoch 56/100\n",
            "25/25 - 0s - loss: 0.2070 - accuracy: 0.9212 - val_loss: 0.2238 - val_accuracy: 0.9188\n",
            "Epoch 57/100\n",
            "25/25 - 0s - loss: 0.2252 - accuracy: 0.9288 - val_loss: 0.2234 - val_accuracy: 0.9188\n",
            "Epoch 58/100\n",
            "25/25 - 0s - loss: 0.2327 - accuracy: 0.9149 - val_loss: 0.2250 - val_accuracy: 0.9239\n",
            "Epoch 59/100\n",
            "25/25 - 0s - loss: 0.2124 - accuracy: 0.9250 - val_loss: 0.2252 - val_accuracy: 0.9188\n",
            "Epoch 60/100\n",
            "25/25 - 0s - loss: 0.1987 - accuracy: 0.9288 - val_loss: 0.2241 - val_accuracy: 0.9188\n",
            "Epoch 61/100\n",
            "25/25 - 0s - loss: 0.2306 - accuracy: 0.9276 - val_loss: 0.2241 - val_accuracy: 0.9188\n",
            "Epoch 62/100\n",
            "25/25 - 0s - loss: 0.1972 - accuracy: 0.9301 - val_loss: 0.2231 - val_accuracy: 0.9188\n",
            "Epoch 63/100\n",
            "25/25 - 0s - loss: 0.2170 - accuracy: 0.9161 - val_loss: 0.2240 - val_accuracy: 0.9188\n",
            "Epoch 64/100\n",
            "25/25 - 0s - loss: 0.2281 - accuracy: 0.9212 - val_loss: 0.2255 - val_accuracy: 0.9188\n",
            "Epoch 65/100\n",
            "25/25 - 0s - loss: 0.2119 - accuracy: 0.9187 - val_loss: 0.2266 - val_accuracy: 0.9188\n",
            "Epoch 66/100\n",
            "25/25 - 0s - loss: 0.2065 - accuracy: 0.9263 - val_loss: 0.2264 - val_accuracy: 0.9188\n",
            "Epoch 67/100\n",
            "25/25 - 0s - loss: 0.2193 - accuracy: 0.9263 - val_loss: 0.2260 - val_accuracy: 0.9188\n",
            "Epoch 68/100\n",
            "25/25 - 0s - loss: 0.2040 - accuracy: 0.9250 - val_loss: 0.2246 - val_accuracy: 0.9188\n",
            "Epoch 69/100\n",
            "25/25 - 0s - loss: 0.1957 - accuracy: 0.9263 - val_loss: 0.2248 - val_accuracy: 0.9188\n",
            "Epoch 70/100\n",
            "25/25 - 0s - loss: 0.1816 - accuracy: 0.9327 - val_loss: 0.2244 - val_accuracy: 0.9188\n",
            "Epoch 71/100\n",
            "25/25 - 0s - loss: 0.1935 - accuracy: 0.9301 - val_loss: 0.2236 - val_accuracy: 0.9188\n",
            "Epoch 72/100\n",
            "25/25 - 0s - loss: 0.1987 - accuracy: 0.9352 - val_loss: 0.2232 - val_accuracy: 0.9188\n",
            "Epoch 73/100\n",
            "25/25 - 0s - loss: 0.2006 - accuracy: 0.9301 - val_loss: 0.2249 - val_accuracy: 0.9188\n",
            "Epoch 74/100\n",
            "25/25 - 0s - loss: 0.2099 - accuracy: 0.9301 - val_loss: 0.2224 - val_accuracy: 0.9188\n",
            "Epoch 75/100\n",
            "25/25 - 0s - loss: 0.2100 - accuracy: 0.9263 - val_loss: 0.2215 - val_accuracy: 0.9239\n",
            "Epoch 76/100\n",
            "25/25 - 0s - loss: 0.2129 - accuracy: 0.9276 - val_loss: 0.2235 - val_accuracy: 0.9188\n",
            "Epoch 77/100\n",
            "25/25 - 0s - loss: 0.2018 - accuracy: 0.9301 - val_loss: 0.2205 - val_accuracy: 0.9188\n",
            "Epoch 78/100\n",
            "25/25 - 0s - loss: 0.2012 - accuracy: 0.9314 - val_loss: 0.2194 - val_accuracy: 0.9188\n",
            "Epoch 79/100\n",
            "25/25 - 0s - loss: 0.2263 - accuracy: 0.9199 - val_loss: 0.2178 - val_accuracy: 0.9188\n",
            "Epoch 80/100\n",
            "25/25 - 0s - loss: 0.1770 - accuracy: 0.9327 - val_loss: 0.2198 - val_accuracy: 0.9188\n",
            "Epoch 81/100\n",
            "25/25 - 0s - loss: 0.1986 - accuracy: 0.9276 - val_loss: 0.2204 - val_accuracy: 0.9188\n",
            "Epoch 82/100\n",
            "25/25 - 0s - loss: 0.1822 - accuracy: 0.9276 - val_loss: 0.2204 - val_accuracy: 0.9188\n",
            "Epoch 83/100\n",
            "25/25 - 0s - loss: 0.1948 - accuracy: 0.9301 - val_loss: 0.2202 - val_accuracy: 0.9188\n",
            "Epoch 84/100\n",
            "25/25 - 0s - loss: 0.1860 - accuracy: 0.9390 - val_loss: 0.2194 - val_accuracy: 0.9188\n",
            "Epoch 85/100\n",
            "25/25 - 0s - loss: 0.2123 - accuracy: 0.9314 - val_loss: 0.2192 - val_accuracy: 0.9188\n",
            "Epoch 86/100\n",
            "25/25 - 0s - loss: 0.2144 - accuracy: 0.9161 - val_loss: 0.2199 - val_accuracy: 0.9188\n",
            "Epoch 87/100\n",
            "25/25 - 0s - loss: 0.1888 - accuracy: 0.9288 - val_loss: 0.2191 - val_accuracy: 0.9188\n",
            "Epoch 88/100\n",
            "25/25 - 0s - loss: 0.1790 - accuracy: 0.9377 - val_loss: 0.2187 - val_accuracy: 0.9188\n",
            "Epoch 89/100\n",
            "25/25 - 0s - loss: 0.1907 - accuracy: 0.9339 - val_loss: 0.2182 - val_accuracy: 0.9188\n",
            "Epoch 90/100\n",
            "25/25 - 0s - loss: 0.1789 - accuracy: 0.9339 - val_loss: 0.2193 - val_accuracy: 0.9188\n",
            "Epoch 91/100\n",
            "25/25 - 0s - loss: 0.1848 - accuracy: 0.9314 - val_loss: 0.2176 - val_accuracy: 0.9188\n",
            "Epoch 92/100\n",
            "25/25 - 0s - loss: 0.2006 - accuracy: 0.9365 - val_loss: 0.2171 - val_accuracy: 0.9188\n",
            "Epoch 93/100\n",
            "25/25 - 0s - loss: 0.1881 - accuracy: 0.9327 - val_loss: 0.2164 - val_accuracy: 0.9188\n",
            "Epoch 94/100\n",
            "25/25 - 0s - loss: 0.1781 - accuracy: 0.9390 - val_loss: 0.2168 - val_accuracy: 0.9188\n",
            "Epoch 95/100\n",
            "25/25 - 0s - loss: 0.1844 - accuracy: 0.9403 - val_loss: 0.2177 - val_accuracy: 0.9188\n",
            "Epoch 96/100\n",
            "25/25 - 0s - loss: 0.2141 - accuracy: 0.9263 - val_loss: 0.2171 - val_accuracy: 0.9137\n",
            "Epoch 97/100\n",
            "25/25 - 0s - loss: 0.1777 - accuracy: 0.9377 - val_loss: 0.2179 - val_accuracy: 0.9188\n",
            "Epoch 98/100\n",
            "25/25 - 0s - loss: 0.1744 - accuracy: 0.9403 - val_loss: 0.2198 - val_accuracy: 0.9137\n",
            "Epoch 99/100\n",
            "25/25 - 0s - loss: 0.1719 - accuracy: 0.9365 - val_loss: 0.2189 - val_accuracy: 0.9137\n",
            "Epoch 100/100\n",
            "25/25 - 0s - loss: 0.1803 - accuracy: 0.9339 - val_loss: 0.2181 - val_accuracy: 0.9188\n"
          ],
          "name": "stdout"
        }
      ]
    },
    {
      "cell_type": "code",
      "metadata": {
        "id": "Dq0jilWTbFSw",
        "colab_type": "code",
        "colab": {
          "base_uri": "https://localhost:8080/",
          "height": 573
        },
        "outputId": "f1f2bef0-981d-460b-fb26-af9a571b06d6"
      },
      "source": [
        "plot_learning(history, epochs)"
      ],
      "execution_count": 55,
      "outputs": [
        {
          "output_type": "display_data",
          "data": {
            "image/png": "[encoded data removed]",
            "text/plain": [
              "<Figure size 432x288 with 1 Axes>"
            ]
          },
          "metadata": {
            "tags": [],
            "needs_background": "light"
          }
        },
        {
          "output_type": "display_data",
          "data": {
            "image/png": "[encoded data removed]",
            "text/plain": [
              "<Figure size 432x288 with 1 Axes>"
            ]
          },
          "metadata": {
            "tags": [],
            "needs_background": "light"
          }
        }
      ]
    },
    {
      "cell_type": "code",
      "metadata": {
        "id": "mU6U3zAxbJ3D",
        "colab_type": "code",
        "colab": {}
      },
      "source": [
        ""
      ],
      "execution_count": null,
      "outputs": []
    }
  ]
}